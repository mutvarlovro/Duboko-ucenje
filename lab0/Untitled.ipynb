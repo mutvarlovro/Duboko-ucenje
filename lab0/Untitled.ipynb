{
 "cells": [
  {
   "cell_type": "code",
   "execution_count": 1,
   "id": "84aac046",
   "metadata": {},
   "outputs": [],
   "source": [
    "import numpy as np\n",
    "import torch"
   ]
  },
  {
   "cell_type": "code",
   "execution_count": 13,
   "id": "30189261",
   "metadata": {},
   "outputs": [
    {
     "name": "stdout",
     "output_type": "stream",
     "text": [
      "y=18.0, g_a=12.0, g_b=17.0\n"
     ]
    }
   ],
   "source": [
    "# definiranje operacije\n",
    "def f(x, a, b):   \n",
    "    return a * x + b\n",
    "\n",
    "# definiranje varijabli i izgradnja dinamičnog \n",
    "# računskog grafa s unaprijednim prolazom\n",
    "a = torch.tensor(5., requires_grad=True)\n",
    "b = torch.tensor(8., requires_grad=True)\n",
    "x = torch.tensor(2.)\n",
    "y = f(x, a, b)\n",
    "s = a ** 2 + b ** 2\n",
    "\n",
    "# unatražni prolaz koji računa gradijent \n",
    "# po svim tenzorima zadanim s requires_grad=True\n",
    "y.backward()\n",
    "s.backward()               # gradijent se akumulira\n",
    "assert x.grad is None      # pytorch ne računa gradijente po x\n",
    "assert a.grad == x + 2 * a # dy/da + ds/da\n",
    "assert b.grad == 1 + 2 * b # dy/db + ds/db\n",
    "\n",
    "# ispis rezultata\n",
    "print(f\"y={y}, g_a={a.grad}, g_b={b.grad}\")"
   ]
  },
  {
   "cell_type": "code",
   "execution_count": 2,
   "id": "5325bf37",
   "metadata": {},
   "outputs": [
    {
     "data": {
      "text/plain": [
       "tensor(5., requires_grad=True)"
      ]
     },
     "execution_count": 2,
     "metadata": {},
     "output_type": "execute_result"
    }
   ],
   "source": [
    "torch.tensor(5., requires_grad=True)"
   ]
  },
  {
   "cell_type": "code",
   "execution_count": null,
   "id": "fdcf66db",
   "metadata": {},
   "outputs": [],
   "source": []
  }
 ],
 "metadata": {
  "kernelspec": {
   "display_name": "Python 3 (ipykernel)",
   "language": "python",
   "name": "python3"
  },
  "language_info": {
   "codemirror_mode": {
    "name": "ipython",
    "version": 3
   },
   "file_extension": ".py",
   "mimetype": "text/x-python",
   "name": "python",
   "nbconvert_exporter": "python",
   "pygments_lexer": "ipython3",
   "version": "3.9.7"
  }
 },
 "nbformat": 4,
 "nbformat_minor": 5
}
